{
 "cells": [
  {
   "cell_type": "markdown",
   "id": "14b74968",
   "metadata": {},
   "source": [
    "## STA130 Homework 02\n",
    "\n",
    "Please see the course [wiki-textbook](https://github.com/pointOfive/stat130chat130/wiki) for the list of topics covered in this homework assignment, and a list of topics that might appear during ChatBot conversations which are \"out of scope\" for the purposes of this homework assignment (and hence can be safely ignored if encountered)"
   ]
  },
  {
   "cell_type": "markdown",
   "id": "f014006ff8809433",
   "metadata": {},
   "source": [
    "<details class=\"details-example\"><summary style=\"color:blue\"><u>Introduction</u></summary>\n",
    "\n",
    "### Introduction\n",
    "    \n",
    "A reasonable characterization of STA130 Homework is that it simply defines a weekly reading comprehension assignment. \n",
    "Indeed, STA130 Homework essentially boils down to completing various understanding confirmation exercises oriented around coding and writing tasks.\n",
    "However, rather than reading a textbook, STA130 Homework is based on ChatBots so students can interactively follow up to clarify questions or confusion that they may still have regarding learning objective assignments.\n",
    "\n",
    "> Communication is a fundamental skill underlying statistics and data science, so STA130 Homework based on ChatBots helps practice effective two-way communication as part of a \"realistic\" dialogue activity supporting underlying conceptual understanding building. \n",
    "\n",
    "It will likely become increasingly tempting to rely on ChatBots to \"do the work for you\". But when you find yourself frustrated with a ChatBots inability to give you the results you're looking for, this is a \"hint\" that you've become overreliant on the ChatBots. Your objective should not be to have ChatBots \"do the work for you\", but to use ChatBots to help you build your understanding so you can efficiently leverage ChatBots (and other resources) to help you work more efficiently.<br><br>\n",
    "\n",
    "</details>\n",
    "\n",
    "<details class=\"details-example\"><summary style=\"color:blue\"><u>Instructions</u></summary>\n",
    "\n",
    "### Instructions\n",
    "    \n",
    "1. Code and write all your answers (for both the \"Prelecture\" and \"Postlecture\" HW) in a python notebook (in code and markdown cells) \n",
    "    \n",
    "> It is *suggested but not mandatory* that you complete the \"Prelecture\" HW prior to the Monday LEC since (a) all HW is due at the same time; but, (b) completing some of the HW early will mean better readiness for LEC and less of a \"procrastentation cruch\" towards the end of the week...\n",
    "    \n",
    "2. Paste summaries of your ChatBot sessions (including link(s) to chat log histories if you're using ChatGPT) within your notebook\n",
    "    \n",
    "> Create summaries of your ChatBot sessions by using concluding prompts such as \"Please provide a summary of our exchanges here so I can submit them as a record of our interactions as part of a homework assignment\" or, \"Please provide me with the final working verson of the code that we created together\"\n",
    "    \n",
    "3. Save your python jupyter notebook in your own account and \"repo\" on [github.com](github.com) and submit a link to that notebook though Quercus for assignment marking<br><br>\n",
    "\n",
    "</details>\n",
    "\n",
    "<details class=\"details-example\"><summary style=\"color:blue\"><u>Prompt Engineering?</u></summary>\n",
    "    \n",
    "### Prompt Engineering? \n",
    "    \n",
    "The questions (as copy-pasted prompts) are designed to initialize appropriate ChatBot conversations which can be explored in the manner of an interactive and dynamic textbook; but, it is nonetheless **strongly recommendated** that your rephrase the questions in a way that you find natural to ensure a clear understanding of the question. Given sensible prompts the represent a question well, the two primary challenges observed to arise from ChatBots are \n",
    "\n",
    "1. conversations going beyond the intended scope of the material addressed by the question; and, \n",
    "2. unrecoverable confusion as a result of sequential layers logial inquiry that cannot be resolved. \n",
    "\n",
    "In the case of the former (1), adding constraints specifying the limits of considerations of interest tends to be helpful; whereas, the latter (2) is often the result of initial prompting that leads to poor developments in navigating the material, which are likely just best resolve by a \"hard reset\" with a new initial approach to prompting.  Indeed, this is exactly the behavior [hardcoded into copilot](https://answers.microsoft.com/en-us/bing/forum/all/is-this-even-normal/0b6dcab3-7d6c-4373-8efe-d74158af3c00)...\n",
    "\n",
    "</details>"
   ]
  },
  {
   "cell_type": "markdown",
   "id": "161fd459",
   "metadata": {},
   "source": [
    "\n",
    "### Marking Rubric (which may award partial credit) \n",
    "\n",
    "- [0.1 points]: All relevant ChatBot summaries [including link(s) to chat log histories if you're using ChatGPT] are reported within the notebook\n",
    "- [0.3 points]: Assignment completion confirmed by working \"final\" code and ChatBot summaries for \"3\"\n",
    "- [0.3 points]: Written submission evaluation and enagement confirmation with ChatBot summaries for \"6\"\n",
    "- [0.3 points]: Evaluation of engagement and evaluation of written communication in \"7\"\n",
    "        "
   ]
  },
  {
   "cell_type": "markdown",
   "id": "f7ff3f55",
   "metadata": {},
   "source": [
    "### \"Pre-lecture\" HW [*completion prior to next LEC is suggested but not mandatory*]"
   ]
  },
  {
   "cell_type": "markdown",
   "id": "fda8568b",
   "metadata": {},
   "source": [
    "#### 1. Begin (or restart) part \"3(a)\" of the **TUT Demo** and interact with a ChatBot to make sure you understand how each part the Monte Hall problem code above works<br>\n",
    "\n",
    "<details class=\"details-example\"><summary style=\"color:blue\"><u>Further Guidance</u></summary>\n",
    "    \n",
    "> _ChatBots typically explain code fairly effectively, so a ChatBot will probably be very helpful if you share the full Monte Hall problem code; but, you can always introduce more specific and targetted follow-up prompts that help with focus, re-redirection, and response format regarding the ChatBot responses as needed._ \n",
    ">\n",
    "> _ChatBots won't always re-introduce and re-explain the Monte Hall problem itself, so if you need it to do so you may need to specifically request this as part of your prompt or follow up interactions._\n",
    "\n",
    "</details>\n"
   ]
  },
  {
   "cell_type": "code",
   "execution_count": null,
   "id": "a2ea09b7",
   "metadata": {},
   "outputs": [],
   "source": []
  },
  {
   "cell_type": "markdown",
   "id": "11581881",
   "metadata": {},
   "source": [
    "#### 2. Extend your ChatBot sessions to now address part \"3(b)\" of the **TUT Demo** and interact with your ChatBot to see if it can suggest a simpler, more streamlined way to code up this *for* loop simulation so the process is more clear and easier to understand; then, describe any preferences you have in terms of readibility or explainability  between the original code and the code improvements suggested by the ChatBot<br>\n",
    "\n",
    "<details class=\"details-example\"><summary style=\"color:blue\"><u>Further Guidance</u></summary>\n",
    "    \n",
    "> _The links in the TUT Demo show that there can be variation in the quality of the code improvements suggested by ChatBots; however, it's most likely that a ChatBot is going to be able to greatly reduce the number of steps/lines of code and hence complexity of understanding the problem. ChatBots can provide a good amount of explanation and inline clarifying code comments and provide more simpler more intuitive code that can transform something that looks a bit scary at first to something that's easy to follow and make sense of. Of course, in doing so, a ChatBot may introduce functions that you've technically not learned or seen before; but, the amount of simplification and clarifying comments is probably going to more than compensate for this; and, you'll have seen a learned a little bit more about what's possible through this process, which is the ideal experience we're hoping you'll see here._ \n",
    "    \n",
    "</details>\n",
    "        "
   ]
  },
  {
   "cell_type": "markdown",
   "id": "f3fdebd8",
   "metadata": {},
   "source": [
    "#### 3. Submit your preferred version of the Monty Hall problem that is verified to be running and working with a final printed output of the code; then, add code comments explaining the purpose of each line of the code<br>\n",
    "\n",
    "<details class=\"details-example\"><summary style=\"color:blue\"><u>Further Guidance</u></summary>\n",
    "    \n",
    "> _Your ChatBot will likely do much of this for you, but verify for yourself that you understand each comment and reword comments wherever you think it would be better to explain it differently._\n",
    ">\n",
    "> _Remember to ask for summaries of your current session and paste these into your homework notebook  (including link(s) to chat log histories if you're using ChatGPT)_\n",
    "\n",
    "</details>\n",
    " "
   ]
  },
  {
   "cell_type": "code",
   "execution_count": null,
   "id": "e1aef860",
   "metadata": {},
   "outputs": [],
   "source": [
    "import numpy as np # import a package called numpy\n",
    "\n",
    "# Parameters\n",
    "reps = 100000  # Number of repetitions as 100000\n",
    "wins = 0       # Counter for wins when switching\n",
    "\n",
    "for _ in range(reps): # Start a for_loop\n",
    "    # Randomly assign the prize door\n",
    "    winning_door = np.random.randint(1, 4)\n",
    "    #Randomly assign contestant's initial choice\n",
    "    my_choice = np.random.randint(1, 4)\n",
    "\n",
    "    # If the contestant switches, they win if their initial choice was wrong\n",
    "    if my_choice != winning_door:\n",
    "        #the number of winning round pluses one\n",
    "        wins += 1\n",
    "\n",
    "# Calculate the winning probability\n",
    "print(f\"Probability of winning by switching: {wins / reps:.4f}\")\n"
   ]
  },
  {
   "cell_type": "markdown",
   "id": "89b6b2c6",
   "metadata": {},
   "source": [
    "This simplified version of the Monty Hall simulation streamlines the code by focusing on the key probability concept. The contestant wins by switching if their initial choice is incorrect. Instead of simulating Monty revealing a goat door and removing options, the code directly compares the contestant's first choice with the winning door. If the initial choice is wrong, switching would lead to a win. The loop runs for 100,000 repetitions, and the probability of winning by switching is calculated and printed at the end. This approach is more efficient and easier to understand than the original code.\n",
    "link(s) to chat log histories:https://chatgpt.com/share/66eb5267-85c8-8013-97a3-1cb6b9d7c455\n",
    "\n",
    "\n",
    "\n",
    "\n",
    "\n"
   ]
  },
  {
   "cell_type": "markdown",
   "id": "8ba3ff01",
   "metadata": {},
   "source": [
    "#### 4. Watch the embedded video tutorial on Markov chains in the next Jupyter cell below to understand their application and relevance for ChatBots; then, after watching the video, start a new ChatBot session by prompting that you have code that creates a \"Markovian ChatBot\"; show it the first version of the \"Markovian ChatBot code\" below; and interact with the ChatBot session to make sure you understand how the original first version of the \"Markovian ChatBot code\" works<br>\n",
    "\n",
    "<details class=\"details-example\"><summary style=\"color:blue\"><u>Further Guidance</u></summary>\n",
    "\n",
    "> _If the ChatBot prompts you as to how you will \"train\" your own \"Markovian ChatBot\" you can reply that you'll just use a series of stories with a lot of different characters_\n",
    "> \n",
    "> _Ask for summaries of this second ChatBot session and paste these into your homework notebook (including link(s) to chat log histories if you're using ChatGPT)_\n",
    "    \n",
    "</details>\n",
    "    "
   ]
  },
  {
   "cell_type": "code",
   "execution_count": null,
   "id": "a52754504a625b36",
   "metadata": {},
   "outputs": [],
   "source": [
    "# Markov Chains and Text Generation\n",
    "from IPython.display import YouTubeVideo\n",
    "YouTubeVideo('56mGTszb_iM', width = 550)"
   ]
  },
  {
   "cell_type": "markdown",
   "id": "7a17e608",
   "metadata": {},
   "source": [
    "<details class=\"details-example\"><summary style=\"color:blue\"><u>Continue now...?</u></summary>\n",
    "\n",
    "### Pre-lecture VS Post-lecture HW\n",
    "\n",
    "Feel free to work on the \"Post-lecture\" HW below if you're making good progress and want to continue: for **HW 02** continuing could be reasonable because questions \"5-7\" below directly follow up and extend \"Pre-lecture\" HW question \"4\"\n",
    "\n",
    "*The benefits of continue would are that (a) it might be fun to try to tackle the challenge of working through some problems without additional preparation or guidance; and (b) this is a very valable skill to be comfortable with; and (c) it will let you build experience interacting with ChatBots (and beginning to understand their strengths and limitations in this regard)... it's good to have sense of when using a ChatBot is the best way to figure something out, or if another approach (such as course provided resources or a plain old websearch for the right resourse) would be more effective*\n",
    "    \n",
    "</details>    "
   ]
  },
  {
   "cell_type": "markdown",
   "id": "d6ae0a64",
   "metadata": {},
   "source": [
    "### \"Post-lecture\" HW [*submission along with \"Pre-lecture\" HW is due prior to next TUT*]"
   ]
  },
  {
   "cell_type": "markdown",
   "id": "a3979c94",
   "metadata": {},
   "source": [
    "#### 5. Recreate (or resume) the previous ChatBot session from question \"4\" above, and now  prompt the ChatBot session that you have a couple extensions of the code to show it, and then show it each of the extentions of the \"Markovian ChatBot code\" below in turn\n",
    "\n",
    "\n",
    "\n",
    "1. Without just supplying your ChatBot session with the answers, see if the ChatBot can figure out what the extensions in the code do; namely, making character specific Markov chains, and using bigrams (rather than just the previous word alone) dependency... prompt your ChatBot session with some hints if it's not seeming to \"get it\"<br><br>\n",
    "    \n",
    "2. Interact with your ChatBot session to have it explain details of the code wherever you need help understanding what the code is doing and how it works<br><br>\n",
    "    \n",
    "3. Start yet another new ChatBot session and first show the ChatBot the original \"Markovian ChatBot code\" below, and then tell ChatBot that you have an extension but this time just directly provide it the more complicated final extension without ever providing the intermediate extension code to the ChatBot session and see if it's still able to understand everything extension does; namely, making character specific Markov chains, and using bigrams (rather than just the previous word alone) dependency... prompt the ChatBot with some hints if it's not seeming to understand what you're getting at...<br><br>\n",
    "    \n",
    "<details class=\"details-example\"><summary style=\"color:blue\"><u>Further Guidance</u></summary>\n",
    "\n",
    "> **ALERT: Time Warning**. Regarding the comments below (which will likely be relevant and useful for you), you might find the potential learning experience that this provides to be a quite the rabbit total rabbit hole and time sink. You might end up finding out that you spent way more time than I should on learning the code!! So be mindful of your time management as there is much to do for many classes!\n",
    ">    \n",
    "> _As you may or may not have already experienced in the previous problem, a ChatBot applied to this problem is likely to start explaining a bit more knowledge about Python than you need to know (as a student just trying to learn stats+DS); however, you'll probably feel like this \"out of scope\" context information is helpful to know (or at least be aware of) and easy to understand and learn if you use some addtional prompts to dig deeper into them. A ChatBot will be quite good at explaining and helping understand smaller chunks of code; however, if given too much information at once it can gloss over some information._\n",
    ">   \n",
    "> _That said, some topics here are potentially quite and advanced and too tricky! You might be able to ask the ChatBot to simplify its explanations and that might help a bit. But on the other hand, some topics, such as, \"how does `nested_dict = lambda: defaultdict(nested_dict)` work?\" might just simply be too advanced to really admit a simpler explanation via a ChatBot. You'll have to let these sorts of things go, if you come across explanations that just aren't improving or helping at at. In the case of `defaultdict(nested_dict)` specifically, the details here are well beyond the scope of STA130 and can be very safely ignored for now. The code will have reviewed and \"walked thorugh\" in LEC, but the perspectives espoused there will be the extent of the formal commentary and information regarding the coding topics we encounter in the Markov ChatBots code here._\n",
    ">     \n",
    "> _Unlike with the Monte Hall problem, we will not inquire with the ChatBot to see if it can suggest any streamlining, readability, or usability improvements to the alternative versions of the \"Markovian ChatBot code\" we're examining_\n",
    ">     \n",
    "> - _because doing so seems to result in the attempted creation of dubiously functional modular code with a focus on reusability (which is likely a result of ChatBot design being primarily a \"computer science\" topic), so ChatBot reponses here tend to orient around programming and system design principles (despite \"Markovian\" very much being a \"statistics\" topic)_\n",
    ">     \n",
    "> _Programming and system design principles are beyond the scope of STA130; but, they are critical for modern data science careers... if you are interested in pursuing a data science career, it is imperitive that you complete courses like CSC263, CSC373, and perhaps an additional \"systems design\" course_\n",
    "> \n",
    "> ---\n",
    "> \n",
    "> _Don't forget to ask for summaries of all your different ChatBot sessions and organize and paste these into your homework notebook (including link(s) to chat log histories if you're using ChatBot)_\n",
    "    \n",
    "</details>\n",
    "     "
   ]
  },
  {
   "cell_type": "code",
   "execution_count": null,
   "id": "0d3c2c85",
   "metadata": {},
   "outputs": [],
   "source": [
    "link to chatlog history: https://chatgpt.com/share/66eb57ef-341c-8013-beab-098d971c0071"
   ]
  },
  {
   "cell_type": "markdown",
   "id": "116f0a96",
   "metadata": {},
   "source": [
    "#### 6. Report on your experience interacting with ChatBots to understand the Monte Hall problem and \"Markovian ChatBot\" code\n",
    "\n",
    "1. Discuss how quickly the ChatBot was able to be helpful for each of the above questions, and if so, how?<br><br>\n",
    "    \n",
    "2. Discuss whether or not interacting with ChatBot to try to figure things out was frustrating or unhelpful, and if so, how?<br><br>\n",
    "    \n",
    "3. Based on your experiences to date (e.g., including using ChatBots to troubleshoot coding errors in the previous homework), provide an overall assessment evaluating the usefulness of ChatBots as tools to help you understand code<br>"
   ]
  },
  {
   "cell_type": "markdown",
   "id": "2fc01ee0",
   "metadata": {},
   "source": [
    "1.ChatGPT provides immediate and accurate responses, especially for code-related problems like the Monty Hall problem or building a 'Markovian ChatBot.' It effectively breaks down complex problems into smaller, manageable steps, offering clear explanations. Moreover, the code provided is typically free of bugs and ready to use. In summary, ChatGPT excels at delivering quick and precise solutions."
   ]
  },
  {
   "cell_type": "markdown",
   "id": "5e567c4f",
   "metadata": {},
   "source": [
    "2.Most of the time, interacting with the chatbot is smooth and not frustrating. For example, when asking about the \"Markovian ChatBot\" code, it provides accurate explanations. The chatbot excels at handling straightforward queries effectively. However, when it comes to more complex questions that are harder to understand, it often needs more context or clarification. This can be a bit frustrating, especially if the responses are incorrect or not as helpful as expected."
   ]
  },
  {
   "cell_type": "markdown",
   "id": "c8a444eb",
   "metadata": {},
   "source": [
    "3.ChatGPT is an excellent tool for understanding how code functions. It excels at addressing straightforward problems, providing clear answers and examples that are usually very helpful. However, it can struggle with more complex questions and may require additional clarification from users to fully grasp and respond to the query."
   ]
  },
  {
   "cell_type": "markdown",
   "id": "4642d6c2",
   "metadata": {},
   "source": [
    "#### 7. Reflect on your experience interacting with ChatBot and describe how your perception of AI-driven assistance tools in the context of learning coding, statistics, and data science has been evolving (or not) since joining the course<br><br>\n",
    "\n",
    "<details class=\"details-example\"><summary style=\"color:blue\"><u>Further Guidance</u></summary>\n",
    "    \n",
    "> _Question \"7\" and the next question \"8\" are somewhat related to the first bullet point in the suggested interactions of the \"Afterword\" to the Homework from last week... consider reviewing that if you'd like a little extra orienting around what these questions are trying to have you explore_\n",
    "   \n",
    "</details>"
   ]
  },
  {
   "cell_type": "markdown",
   "id": "b9fb13d2",
   "metadata": {},
   "source": [
    "AI-driven assistance tools have significantly enhanced the learning process for coding, statistics, and data science. They are incredibly valuable resources that aid students in solving complex questions and studying more effectively. I often use ChatGPT to complete pre-lecture homework, which gives me a foundational understanding of the material and helps me grasp the concepts more easily during lectures. Learning from ChatGPT has proven to be both engaging and innovative. Together with e-textbooks, AI tools enable me to study statistics, coding, and data science more efficiently."
   ]
  },
  {
   "cell_type": "markdown",
   "id": "500f440e",
   "metadata": {},
   "source": [
    "#### 8. ChatBots consume text data available on the web or platforms, and thus represents a new way to \"search consensensus\" that condenses and summarizes mainstream human thought<br><br>\n",
    "\n",
    "1. Start a new ChatBot session and discuss the relevance of learning and adaptability, communication, coding, and statistics and data analysis as skills in the modern world, especially with respect to career opportunities (particularly in the context of the data science industry)<br><br>\n",
    "    \n",
    "2. See if ChatBot thinks you could be a statistician or data scientist without coding or doing data analysis, and then transition your ChatBot conversation into a career exploration discussion, using the ChatBot to identify the skills that might be the most valuable for a career that you're interested<br><br>\n",
    "    \n",
    "3. Ask for a summary of this ChatBot session and paste it into your homework notebook (including link(s) to chat log histories if you're using ChatBot)<br><br>\n",
    "    \n",
    "4. Paraphrase the assessments and conclusions of your conversation in the form of a reflection on your current thoughts regarding your potential future career(s) and how you can go about building the skills you need to pursue it<br><br>\n",
    "\n",
    "5. Give your thoughts regarding the helpfulness or limitations of your conversation with a ChatBot, and describe the next steps you would take to pursue this conversation further if you felt the information the ChatBot provides was somewhat high level and general, and perhaps lacked the depth and detailed knowledge of a dedicated subject matter expert who had really take the time to understand the ins and outs of the industry and career path in question.\n",
    "<br><br>\n",
    "\n",
    "<details class=\"details-example\"><summary style=\"color:blue\"><u>Further Guidance</u></summary>\n",
    "\n",
    "> _While question 8 is not a part of the rubric, it is nonetheless a very good exercise that will likely be valuable for you if you engage it them sincerely_\n",
    "    \n",
    "</details>\n"
   ]
  },
  {
   "cell_type": "markdown",
   "id": "b489452e",
   "metadata": {},
   "source": [
    "#### 9. Have you reviewed the course [wiki-textbook](https://github.com/pointOfive/stat130chat130/wiki) and interacted with a ChatBot (or, if that wasn't sufficient, real people in the course piazza discussion board or TA office hours) to help you understand all the material in the tutorial and lecture that you didn't quite follow when you first saw it?<br><br>\n",
    "  \n",
    "<details class=\"details-example\"><summary style=\"color:blue\"><u>Further Guidance</u></summary>\n",
    "    \n",
    "> _Just answering \"Yes\" or \"No\" or \"Somewhat\" or \"Mostly\" or whatever here is fine as this question isn't a part of the rubric; but, the midterm and final exams may ask questions that are based on the tutorial and lecture materials; and, your own skills will be limited by your familiarity with these materials (which will determine your ability to actually do actual things effectively with these skills... like the course project...)_\n",
    "    \n",
    "</details>"
   ]
  },
  {
   "cell_type": "markdown",
   "id": "652002f2",
   "metadata": {},
   "source": [
    "Yes,I have."
   ]
  },
  {
   "cell_type": "code",
   "execution_count": null,
   "id": "16f95257fb4fda6c",
   "metadata": {},
   "outputs": [],
   "source": [
    "# Markovian Chatbot\n",
    "\n",
    "# from collections import defaultdict\n",
    "word_used = dict() # defaultdict(int)\n",
    "next_word = dict() # defaultdict(lambda: defaultdict(int))\n",
    "for i,word in enumerate(words[:-1]):\n",
    "\n",
    "    if word in word_used:\n",
    "        word_used[word] += 1\n",
    "    else:\n",
    "        word_used[word] = 1\n",
    "        next_word[word] = {}\n",
    "\n",
    "    if words[i+1] in next_word[word]:\n",
    "        next_word[word][words[i+1]] += 1\n",
    "    else:\n",
    "        next_word[word][words[i+1]] = 1"
   ]
  },
  {
   "cell_type": "code",
   "execution_count": null,
   "id": "bd0e5d2163411e8e",
   "metadata": {},
   "outputs": [],
   "source": [
    "# Markovian Chatbot Extension #1\n",
    "\n",
    "word_used2 = defaultdict(int)\n",
    "next_word2 = defaultdict(lambda: defaultdict(int))\n",
    "for i,word in enumerate(words[:-2]):\n",
    "    word_used2[word+' '+words[i+1]] += 1\n",
    "    next_word2[word+' '+words[i+1]][words[i+2]] += 1 "
   ]
  },
  {
   "cell_type": "code",
   "execution_count": null,
   "id": "33fe616edecddb60",
   "metadata": {},
   "outputs": [],
   "source": [
    "# Markovian Chatbot Extension #2\n",
    "\n",
    "from collections import Counter, defaultdict\n",
    "# `avatar` is a dataset, and `character` is one of it's columns\n",
    "characters = Counter(\"\\n\"+ avatar.character.str.upper().str.replace(' ','.')+\":\")\n",
    "# this code changes the type of the `character` column to `str`; then,\n",
    "# makes the text uppercase, and replaces spaces with '.'\n",
    "\n",
    "nested_dict = lambda: defaultdict(nested_dict)\n",
    "word_used2C = nested_dict()\n",
    "next_word2C = nested_dict()\n",
    "\n",
    "for i,word in enumerate(words[:-2]):\n",
    "    if word in characters:\n",
    "        character = word\n",
    "        \n",
    "    if character not in word_used2C:\n",
    "        word_used2C[character] = dict()\n",
    "    if word+' '+words[i+1] not in word_used2C[character]:\n",
    "        word_used2C[character][word+' '+words[i+1]] = 0\n",
    "    word_used2C[character][word+' '+words[i+1]] += 1\n",
    "    \n",
    "    if character not in next_word2C:\n",
    "        next_word2C[character] = dict()\n",
    "    if word+' '+words[i+1] not in next_word2C[character]:\n",
    "        next_word2C[character][word+' '+words[i+1]] = dict()\n",
    "    if words[i+2] not in next_word2C[character][word+' '+words[i+1]]:\n",
    "        next_word2C[character][word+' '+words[i+1]][words[i+2]] = 0\n",
    "    next_word2C[character][word+' '+words[i+1]][words[i+2]] += 1"
   ]
  },
  {
   "cell_type": "markdown",
   "id": "1ebfa9b9",
   "metadata": {},
   "source": [
    "## Recommended Additional Useful Activities [Optional]\n",
    "\n",
    "The \"Ethical Profesionalism Considerations\" and \"Current Course Project Capability Level\" sections below **are not a part of the required homework assignment**; rather, they are regular weekly guides covering (a) relevant considerations regarding professional and ethical conduct, and (b) the analysis steps for the STA130 course project that are feasible at the current stage of the course <br><br>\n",
    "\n",
    "\n",
    "<details class=\"details-example\"><summary style=\"color:blue\"><u>Ethical Professionalism Considerations</u></summary>\n",
    "\n",
    "### Ethical Professionalism Considerations\n",
    "\n",
    "    \n",
    "> 1. If you've not heard of the \"reproducibility crisis\" in science, have a ChatBot explain it to you\n",
    "> 2. If you've not heard of the \"open source software\" (versus proprietary software), have a ChatBot explain it to you\n",
    "> 3. \"Reproducibility\" can also be considered at the level of a given data analysis project: can others replicate the results of code or analysis that you've done?\n",
    ">    1. Discuss with a ChatBot how jupyter notebooks and github can be used facilitate transparency and reproducibility in data analysis\n",
    "> 4. Discuss with a ChatBot what the distinction is between replicability of scientific experiments, versus the replicability of a specific data analysis project, and what your responsibility as an analyst should be with respect to both\n",
    "> 5. Do you think proprietary (non \"open source software\") software, such as Microsoft Word, Outlook, and Copilot tends to result in high quality products?  \n",
    ">     1. Do you think software product monopolies (such as the UofT dependence on Microsoft products) makes the world a better place?\n",
    "</details>    \n",
    "\n",
    "<details class=\"details-example\"><summary style=\"color:blue\"><u>Current Course Project Capability Level</u></summary>\n",
    "\n",
    "### Current Course Project Capability Level\n",
    "   \n",
    "**Remember to abide by the [data use agreement](https://static1.squarespace.com/static/60283c2e174c122f8ebe0f39/t/6239c284d610f76fed5a2e69/1647952517436/Data+Use+Agreement+for+the+Canadian+Social+Connection+Survey.pdf) at all times.**\n",
    "\n",
    "Information about the course project is available on the course github repo [here](https://github.com/pointOfive/stat130chat130/tree/main/CP), including a draft [course project specfication](https://github.com/pointOfive/stat130chat130/blob/main/CP/STA130F23_course_project_specification.ipynb) (subject to change). \n",
    "- The Week 01 HW introduced [STA130F24_CourseProject.ipynb](https://github.com/pointOfive/stat130chat130/blob/main/CP/STA130F24_CourseProject.ipynb), and the [available variables](https://drive.google.com/file/d/1ISVymGn-WR1lcRs4psIym2N3or5onNBi/view). \n",
    "- Please do not download the [data](https://drive.google.com/file/d/1mbUQlMTrNYA7Ly5eImVRBn16Ehy9Lggo/view) accessible at the bottom of the [CSCS](https://casch.org/cscs) webpage (or the course github repo) multiple times.\n",
    "\n",
    "> At this point in the course you should be able to create a `for` loop to iterate through and provide **simple summaries** of some of the interesting columns in the course project data\n",
    ">\n",
    "> 1. Create two versions of the code, one for numeric and the other for categorical data,  which provide a printout format that displays relavent summaries and the missing data counts for a given set of (either numerical or categorical) columns being examined\n",
    ">\n",
    "> 2. Combine the two separate `for` loops into a single `for` loop using an `if`/`else` **conditional logic structure** that determines the correct printout format based on the data type of the column under consideration  \n",
    ">     1. *Being able to transform existing code so it's \"resuable\" for different purposes is one version of the programming design principle of \"polymorphism\" (which means \"many forms\" or \"many uses\") [as in the first task above]*\n",
    ">     2. *A better version of the programming design principle of \"polymorphism\" is when the same code can handle different use cases [as in the second tast above]*\n",
    ">     3. *Being able run your code with different subsets of columns as interest in different variables changes is a final form of the programming design principle of \"polymorphism\" that's demonstrated through this exercise*   \n",
    "    \n",
    "</details>        "
   ]
  }
 ],
 "metadata": {
  "kernelspec": {
   "display_name": "Python 3 (ipykernel)",
   "language": "python",
   "name": "python3"
  },
  "language_info": {
   "codemirror_mode": {
    "name": "ipython",
    "version": 3
   },
   "file_extension": ".py",
   "mimetype": "text/x-python",
   "name": "python",
   "nbconvert_exporter": "python",
   "pygments_lexer": "ipython3",
   "version": "3.11.6"
  }
 },
 "nbformat": 4,
 "nbformat_minor": 5
}
